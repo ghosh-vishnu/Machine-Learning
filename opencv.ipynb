{
 "cells": [
  {
   "cell_type": "code",
   "execution_count": 37,
   "metadata": {},
   "outputs": [
    {
     "name": "stdout",
     "output_type": "stream",
     "text": [
      "Requirement already satisfied: opencv-python in c:\\users\\lenovo\\appdata\\local\\programs\\python\\python311\\lib\\site-packages (4.7.0.72)\n",
      "Requirement already satisfied: numpy>=1.21.2 in c:\\users\\lenovo\\appdata\\local\\programs\\python\\python311\\lib\\site-packages (from opencv-python) (1.24.2)\n",
      "Note: you may need to restart the kernel to use updated packages.\n"
     ]
    },
    {
     "name": "stderr",
     "output_type": "stream",
     "text": [
      "\n",
      "[notice] A new release of pip available: 22.3.1 -> 23.0.1\n",
      "[notice] To update, run: python.exe -m pip install --upgrade pip\n"
     ]
    }
   ],
   "source": [
    "pip install opencv-python"
   ]
  },
  {
   "cell_type": "code",
   "execution_count": 1,
   "metadata": {},
   "outputs": [],
   "source": [
    "import cv2"
   ]
  },
  {
   "cell_type": "code",
   "execution_count": 3,
   "metadata": {},
   "outputs": [],
   "source": [
    "img=cv2.imread(\"images\\vv.png\",0)\n",
    "cv2.imshow(\"window\",img)\n",
    "cv2.waitKey()\n",
    "cv2.destroyWindow(\"window\")"
   ]
  },
  {
   "cell_type": "code",
   "execution_count": 2,
   "metadata": {},
   "outputs": [
    {
     "ename": "error",
     "evalue": "OpenCV(4.7.0) D:\\a\\opencv-python\\opencv-python\\opencv\\modules\\imgproc\\src\\demosaicing.cpp:1699: error: (-215:Assertion failed) scn == 1 && dcn == 1 in function 'cv::demosaicing'\n",
     "output_type": "error",
     "traceback": [
      "\u001b[1;31m---------------------------------------------------------------------------\u001b[0m",
      "\u001b[1;31merror\u001b[0m                                     Traceback (most recent call last)",
      "Cell \u001b[1;32mIn[2], line 2\u001b[0m\n\u001b[0;32m      1\u001b[0m img\u001b[39m=\u001b[39mcv2\u001b[39m.\u001b[39mimread(\u001b[39m\"\u001b[39m\u001b[39mvv.png\u001b[39m\u001b[39m\"\u001b[39m)\n\u001b[1;32m----> 2\u001b[0m img2\u001b[39m=\u001b[39mcv2\u001b[39m.\u001b[39;49mcvtColor(img,cv2\u001b[39m.\u001b[39;49mCOLOR_BAYER_GB2GRAY)\n\u001b[0;32m      3\u001b[0m cv2\u001b[39m.\u001b[39mimshow(\u001b[39m\"\u001b[39m\u001b[39mwindow\u001b[39m\u001b[39m\"\u001b[39m,img2)\n\u001b[0;32m      4\u001b[0m cv2\u001b[39m.\u001b[39mimshow(\u001b[39m\"\u001b[39m\u001b[39mwindow1\u001b[39m\u001b[39m\"\u001b[39m,img)\n",
      "\u001b[1;31merror\u001b[0m: OpenCV(4.7.0) D:\\a\\opencv-python\\opencv-python\\opencv\\modules\\imgproc\\src\\demosaicing.cpp:1699: error: (-215:Assertion failed) scn == 1 && dcn == 1 in function 'cv::demosaicing'\n"
     ]
    }
   ],
   "source": [
    "img=cv2.imread(\"images\\vv.png\")\n",
    "img2=cv2.cvtColor(img,cv2.COLOR_BAYER_GB2GRAY)\n",
    "cv2.imshow(\"window\",img2)\n",
    "cv2.imshow(\"window1\",img)\n",
    "cv2.waitKey()\n",
    "cv2.destroyAllWindows()"
   ]
  },
  {
   "cell_type": "code",
   "execution_count": 11,
   "metadata": {},
   "outputs": [],
   "source": [
    "img=cv2.imread(\"images\\vv.png\")\n",
    "img2=cv2.resize(img,(300,300))\n",
    "cv2.imshow(\"Window\",img2)\n",
    "cv2.imshow(\"Windows2\",img)\n",
    "cv2.waitKey()\n",
    "cv2.destroyAllWindows()"
   ]
  },
  {
   "cell_type": "code",
   "execution_count": 5,
   "metadata": {},
   "outputs": [],
   "source": [
    "img=cv2.imread(\"images\\vv.png\",0)\n",
    "img2=cv2.blur(img,ksize=(50,2))\n",
    "cv2.imshow(\"Window\",img2)\n",
    "cv2.waitKey()\n",
    "cv2.destroyAllWindows()"
   ]
  },
  {
   "cell_type": "code",
   "execution_count": 6,
   "metadata": {},
   "outputs": [],
   "source": [
    "img=cv2.imread(\"images\\vv.png\")\n",
    "img2=cv2.convertScaleAbs(img,alpha=5,beta=0)\n",
    "cv2.imshow(\"Window\",img2)\n",
    "cv2.waitKey()\n",
    "cv2.destroyAllWindows()"
   ]
  },
  {
   "cell_type": "code",
   "execution_count": 7,
   "metadata": {},
   "outputs": [],
   "source": [
    "img=cv2.imread(\"images\\vv.png\")\n",
    "img2=cv2.convertScaleAbs(img,alpha=5,beta=0)\n",
    "img2=cv2.flip(img,-1)\n",
    "cv2.imshow(\"Window\",img)\n",
    "cv2.imshow(\"Window1\",img2)\n",
    "cv2.waitKey()\n",
    "cv2.destroyAllWindows()"
   ]
  },
  {
   "cell_type": "code",
   "execution_count": 8,
   "metadata": {},
   "outputs": [
    {
     "name": "stdout",
     "output_type": "stream",
     "text": [
      "-1\n"
     ]
    }
   ],
   "source": [
    "img=cv2.imread(\"images\\vv.png\")\n",
    "blue,green,red=cv2.split(img)\n",
    "cv2.imshow(\"blue\",blue)\n",
    "cv2.imshow(\"green\",green)\n",
    "cv2.imshow(\"red\",red)\n",
    "key=cv2.waitKey(1400)\n",
    "print(key)\n",
    "cv2.destroyAllWindows()"
   ]
  },
  {
   "cell_type": "code",
   "execution_count": 10,
   "metadata": {},
   "outputs": [],
   "source": [
    "img=cv2.imread(\"images\\vv.png\")\n",
    "cv2.putText(img,\"Jay Shree Vishnu\",(15,50),cv2.FONT_HERSHEY_COMPLEX,1,(0,0,255),2)\n",
    "cv2.rectangle(img,(90,90),(50,150),(4,255,5),2)\n",
    "cv2.flip(img,-1)\n",
    "cv2.imshow(\"Window\",img)\n",
    "cv2.waitKey(4500)  \n",
    "cv2.destroyAllWindows()"
   ]
  },
  {
   "cell_type": "code",
   "execution_count": 17,
   "metadata": {},
   "outputs": [],
   "source": [
    "siva=cv2.imread(\"images\\Siva.jpg\")\n",
    "cv2.imshow(\"Siva\",siva)\n",
    "cv2.waitKey()\n",
    "cv2.destroyWindow(\"Siva\")\n"
   ]
  },
  {
   "cell_type": "code",
   "execution_count": 18,
   "metadata": {},
   "outputs": [],
   "source": [
    "import cv2"
   ]
  },
  {
   "cell_type": "code",
   "execution_count": 5,
   "metadata": {},
   "outputs": [],
   "source": [
    "siva=cv2.imread(\"images\\Siva.jpg\")\n",
    "siva1=cv2.convertScaleAbs(siva,alpha=2,beta=4)\n",
    "cv2.imshow(\"Siva\",siva1)\n",
    "cv2.waitKey()\n",
    "cv2.destroyAllWindows()"
   ]
  },
  {
   "cell_type": "code",
   "execution_count": null,
   "metadata": {},
   "outputs": [],
   "source": [
    "# Now we show Multiple Images In Single Frame"
   ]
  },
  {
   "cell_type": "code",
   "execution_count": 6,
   "metadata": {},
   "outputs": [],
   "source": [
    "import cv2"
   ]
  },
  {
   "cell_type": "code",
   "execution_count": 7,
   "metadata": {},
   "outputs": [],
   "source": [
    "img=cv2.imread(\"images\\shristi.jpg\")\n",
    "resize=cv2.resize(img,(400,300))\n",
    "cv2.imshow(\"Shristi\",resize)\n",
    "cv2.waitKey(0) \n",
    "cv2.destroyAllWindows()"
   ]
  },
  {
   "cell_type": "code",
   "execution_count": 8,
   "metadata": {},
   "outputs": [],
   "source": [
    "# At first we use numpy for complete this chalange\n",
    "# So,\n",
    "import numpy as np"
   ]
  },
  {
   "cell_type": "code",
   "execution_count": 9,
   "metadata": {},
   "outputs": [
    {
     "data": {
      "text/plain": [
       "array([1, 2, 3, 5, 1, 2, 3, 5])"
      ]
     },
     "execution_count": 9,
     "metadata": {},
     "output_type": "execute_result"
    }
   ],
   "source": [
    "arr=np.array([1,2,3,5,])\n",
    "h=np.hstack((arr,arr))\n",
    "h"
   ]
  },
  {
   "cell_type": "code",
   "execution_count": 10,
   "metadata": {},
   "outputs": [],
   "source": [
    "img=cv2.imread(\"images\\shristi.jpg\")\n",
    "resize=cv2.resize(img,(400,300))\n",
    "h=np.hstack((resize,resize))\n",
    "# v=np.vstack((h,h))\n",
    "cv2.imshow(\"Shristi\",h)\n",
    "cv2.waitKey(0) \n",
    "cv2.destroyAllWindows()"
   ]
  },
  {
   "cell_type": "code",
   "execution_count": 11,
   "metadata": {},
   "outputs": [],
   "source": [
    "img=cv2.imread(\"images\\shristi.jpg\")\n",
    "resize=cv2.resize(img,(400,300))\n",
    "h=np.hstack((resize,resize))\n",
    "v=np.vstack((h,h))\n",
    "cv2.imshow(\"Shristi\",v)\n",
    "cv2.waitKey(0) \n",
    "cv2.destroyAllWindows()"
   ]
  },
  {
   "cell_type": "code",
   "execution_count": 12,
   "metadata": {},
   "outputs": [],
   "source": [
    "img=cv2.imread(\"images\\shristi.jpg\")\n",
    "resize=cv2.resize(img,(400,300))\n",
    "h=np.hstack((resize,resize,resize,resize))\n",
    "v=np.vstack((h,h,h))\n",
    "cv2.imshow(\"Shristi\",v)\n",
    "cv2.waitKey(0) \n",
    "cv2.destroyAllWindows()"
   ]
  },
  {
   "cell_type": "code",
   "execution_count": 13,
   "metadata": {},
   "outputs": [
    {
     "data": {
      "text/plain": [
       "['20190321_191632.jpg',\n",
       " 'Child.jpg',\n",
       " 'code.jpg',\n",
       " 'Multi_image.jpg',\n",
       " 'old_man.jpg',\n",
       " 'shristi.jpg',\n",
       " 'Siva.jpg',\n",
       " 'vishnu.jpg']"
      ]
     },
     "execution_count": 13,
     "metadata": {},
     "output_type": "execute_result"
    }
   ],
   "source": [
    "import os\n",
    "list=os.listdir(\"images\")\n",
    "list"
   ]
  },
  {
   "cell_type": "code",
   "execution_count": 21,
   "metadata": {},
   "outputs": [
    {
     "ename": "error",
     "evalue": "OpenCV(4.7.0) D:\\a\\opencv-python\\opencv-python\\opencv\\modules\\imgproc\\src\\resize.cpp:4062: error: (-215:Assertion failed) !ssize.empty() in function 'cv::resize'\n",
     "output_type": "error",
     "traceback": [
      "\u001b[1;31m---------------------------------------------------------------------------\u001b[0m",
      "\u001b[1;31merror\u001b[0m                                     Traceback (most recent call last)",
      "Cell \u001b[1;32mIn[21], line 7\u001b[0m\n\u001b[0;32m      5\u001b[0m img_name\u001b[39m=\u001b[39mpath \u001b[39m+\u001b[39m \u001b[39m\"\u001b[39m\u001b[39m\\\\\u001b[39;00m\u001b[39m\"\u001b[39m \u001b[39m+\u001b[39m path\n\u001b[0;32m      6\u001b[0m img\u001b[39m=\u001b[39mcv2\u001b[39m.\u001b[39mimread(img_name)\n\u001b[1;32m----> 7\u001b[0m img1\u001b[39m=\u001b[39mcv2\u001b[39m.\u001b[39;49mresize(img,(\u001b[39m650\u001b[39;49m,\u001b[39m700\u001b[39;49m))\n\u001b[0;32m      8\u001b[0m cv2\u001b[39m.\u001b[39mimshow(\u001b[39m\"\u001b[39m\u001b[39mPhotos\u001b[39m\u001b[39m\"\u001b[39m,img1)\n\u001b[0;32m      9\u001b[0m cv2\u001b[39m.\u001b[39mwaitKey(\u001b[39m1000\u001b[39m)\n",
      "\u001b[1;31merror\u001b[0m: OpenCV(4.7.0) D:\\a\\opencv-python\\opencv-python\\opencv\\modules\\imgproc\\src\\resize.cpp:4062: error: (-215:Assertion failed) !ssize.empty() in function 'cv::resize'\n"
     ]
    }
   ],
   "source": [
    "import os\n",
    "list=os.listdir(r\"C:\\Users\\Lenovo\\Desktop\\Machine_Learning\\Machine-Learning\\images\")\n",
    "for name in list:\n",
    "    path=\"C:\\\\Users\\\\Lenovo\\\\Desktop\\\\Machine_Learning\\\\Machine-Learning\\\\images\"\n",
    "    img_name=path + \"\\\\\" + path\n",
    "    img=cv2.imread(img_name)\n",
    "    img1=cv2.resize(img,(650,700))\n",
    "    cv2.imshow(\"Photos\",img1)\n",
    "    cv2.waitKey(1000)\n",
    "cv2.destroyAllWindows()"
   ]
  },
  {
   "cell_type": "code",
   "execution_count": 16,
   "metadata": {},
   "outputs": [],
   "source": [
    "img=cv2.imread(\"images\\code.jpg\")\n",
    "img1=cv2.resize(img,(950,800))\n",
    "cv2.putText(img1,\"Hamari Duniya\",(450,400),cv2.FONT_HERSHEY_COMPLEX,1,(255,0,0),2)\n",
    "# cv2.rectangle(img,(90,90),(50,150),(4,255,5),2)\n",
    "cv2.flip(img1,-1)\n",
    "cv2.imshow(\"Window\",img1)\n",
    "cv2.waitKey(4500)  \n",
    "cv2.destroyAllWindows()"
   ]
  },
  {
   "cell_type": "code",
   "execution_count": 38,
   "metadata": {},
   "outputs": [],
   "source": [
    "text_img=cv2.imread(\"images\\Siva.jpg\")\n",
    "img1=cv2.resize(text_img,(400,400))\n",
    "txt=cv2.putText(img1,\"Vishnu\",(80,70),cv2.FONT_HERSHEY_DUPLEX,1,(255,0,0),2,cv2.LINE_8,False,)\n",
    "# img=cv2.putText(img=text_img,\n",
    "# text=\"Vishnu\",\n",
    "# org=(100,80),\n",
    "# fontFace=cv2.FONT_HERSHEY_DUPLEX,\n",
    "# fontScale=3,\n",
    "# color=(255,0,0),\n",
    "# thickness=2,\n",
    "# lineType=cv2.LINE_8,\n",
    "# bottomLeftOrigin=False,)\n",
    "# cv2.rectangle(img,(90,90),(50,150),(4,255,5),2)\n",
    "# cv2.flip(img,-1)\n",
    "cv2.imshow(\"Window\",txt)\n",
    "cv2.waitKey(4500)  \n",
    "cv2.destroyAllWindows()"
   ]
  },
  {
   "cell_type": "code",
   "execution_count": 3,
   "metadata": {},
   "outputs": [],
   "source": [
    "img=cv2.imread(\"images\\Siva.jpg\")\n",
    "cv2.putText(img,\"Jay Shree Vishnu\",(80,70),cv2.FONT_HERSHEY_COMPLEX,1,(0,0,255),2)\n",
    "# cv2.rectangle(img,(90,90),(50,150),(4,255,5),2)\n",
    "# cv2.flip(img,-1)\n",
    "cv2.imshow(\"Window\",img)\n",
    "cv2.waitKey(4500)  \n",
    "cv2.destroyAllWindows()\n"
   ]
  },
  {
   "cell_type": "code",
   "execution_count": 65,
   "metadata": {},
   "outputs": [],
   "source": [
    "import cv2"
   ]
  },
  {
   "cell_type": "code",
   "execution_count": 66,
   "metadata": {},
   "outputs": [],
   "source": [
    "img_get=cv2.imread(\"images\\shristi.jpg\")\n",
    "img_get=cv2.resize(img_get,(500,600))\n",
    "cv2.imshow(\"Images\",img_get)\n",
    "cv2.waitKey(0)\n",
    "cv2.destroyAllWindows()"
   ]
  },
  {
   "cell_type": "code",
   "execution_count": 67,
   "metadata": {},
   "outputs": [],
   "source": [
    "old_img=cv2.imread(\"images\\old_man.jpg\")\n",
    "old_img=cv2.resize(old_img,(500,400))\n",
    "new_img=cv2.line(img=old_img,pt1=(180,190),pt2=(300,195),color=(0,255,0),thickness=4,lineType=4)\n",
    "cv2.imshow(\"Images\",new_img)\n",
    "cv2.waitKey(0)\n",
    "cv2.destroyAllWindows()"
   ]
  },
  {
   "cell_type": "code",
   "execution_count": 68,
   "metadata": {},
   "outputs": [],
   "source": [
    "old_img=cv2.imread(\"images\\old_man.jpg\")\n",
    "old_img=cv2.resize(old_img,(500,400))\n",
    "cv2.putText(old_img,\"Vinod\",(200,80),cv2.FONT_HERSHEY_COMPLEX,1,(0,255,0),2)\n",
    "new_img=cv2.rectangle(img=old_img,pt1=(120,190),pt2=(300,280),color=(255,255,0),thickness=4,lineType=4)\n",
    "cv2.imshow(\"Images\",new_img)\n",
    "cv2.waitKey(0)\n",
    "cv2.destroyAllWindows()"
   ]
  },
  {
   "cell_type": "code",
   "execution_count": 69,
   "metadata": {},
   "outputs": [],
   "source": [
    "old_img1=cv2.imread(\"images\\shristi.jpg\")\n",
    "old_img1=cv2.resize(old_img,(500,400))\n",
    "cv2.putText(old_img1,\"Vinod\",(200,80),cv2.FONT_HERSHEY_COMPLEX,1,(0,255,0),2)\n",
    "new_img1=cv2.rectangle(img=old_img1,pt1=(120,190),pt2=(300,280),color=(255,255,0),thickness=4,lineType=4)\n",
    "cv2.imshow(\"Images\",new_img1)\n",
    "cv2.waitKey(0)\n",
    "cv2.destroyAllWindows()"
   ]
  },
  {
   "cell_type": "code",
   "execution_count": 64,
   "metadata": {},
   "outputs": [],
   "source": [
    "img1=cv2.imread(\"images\\shristi.jpg\")\n",
    "img1=cv2.resize(old_img,(500,400))\n",
    "cv2.putText(img1,\"Vinod\",(200,80),cv2.FONT_HERSHEY_COMPLEX,1,(0,255,0),2)\n",
    "new_img1=cv2.rectangle(img=img1,pt1=(120,190),pt2=(300,280),color=(255,255,0),thickness=4,lineType=4)\n",
    "cv2.imshow(\"Images\",new_img1)\n",
    "cv2.waitKey(0)\n",
    "cv2.destroyAllWindows()"
   ]
  },
  {
   "cell_type": "code",
   "execution_count": 140,
   "metadata": {},
   "outputs": [],
   "source": [
    "img_get=cv2.imread(\"images\\shristi.jpg\")\n",
    "img_get=cv2.resize(img_get,(400,400))\n",
    "new=cv2.circle(img=img_get,center=(250,120),radius=85,color=(0,255,0),thickness=4,lineType=16)\n",
    "cv2.imshow(\"Images\",img_get)\n",
    "cv2.waitKey(0)\n",
    "cv2.destroyAllWindows()                                "
   ]
  },
  {
   "cell_type": "code",
   "execution_count": 142,
   "metadata": {},
   "outputs": [],
   "source": [
    "img_get=cv2.imread(\"images\\shristi.jpg\")\n",
    "img_get=cv2.resize(img_get,(400,400))\n",
    "new=cv2.circle(img=img_get,center=(250,120),radius=85,color=(0,255,0),thickness=-4,lineType=16)\n",
    "cv2.imshow(\"Images\",img_get)\n",
    "cv2.waitKey(0)\n",
    "cv2.destroyAllWindows()                                "
   ]
  },
  {
   "cell_type": "code",
   "execution_count": 186,
   "metadata": {},
   "outputs": [],
   "source": [
    "img_get=cv2.imread(\"images\\shristi.jpg\")\n",
    "img_get=cv2.resize(img_get,(400,400))\n",
    "cv2.putText(img_get,\"Shristi\",(280,200),cv2.FONT_HERSHEY_COMPLEX,1,(0,255,0),2)\n",
    "new=cv2.ellipse(img=img_get,center=(250,115),axes=(90,55),angle=90,startAngle=0,endAngle=310, color=(0,255,0),thickness=4,lineType=16)\n",
    "cv2.imshow(\"Images\",img_get)\n",
    "cv2.waitKey(0)\n",
    "cv2.destroyAllWindows()      "
   ]
  },
  {
   "cell_type": "code",
   "execution_count": 90,
   "metadata": {},
   "outputs": [],
   "source": [
    "img_get=cv2.imread(\"images\\shristi.jpg\")\n",
    "img_get=cv2.resize(img_get,(400,400))\n",
    "cv2.putText(img_get,\"Shristi\",(280,200),cv2.FONT_HERSHEY_COMPLEX,1,(0,255,0),2)\n",
    "new=cv2.ellipse(img=img_get,center=(250,115),axes=(90,55),angle=90,startAngle=0,endAngle=360, color=(255,255,0),thickness=-4,lineType=16)\n",
    "cv2.imshow(\"Images\",img_get)\n",
    "cv2.waitKey(0)\n",
    "cv2.destroyAllWindows()      "
   ]
  },
  {
   "cell_type": "markdown",
   "metadata": {},
   "source": [
    "# Draw Polygons"
   ]
  },
  {
   "cell_type": "code",
   "execution_count": 89,
   "metadata": {},
   "outputs": [],
   "source": [
    "import cv2\n",
    "import numpy as np\n",
    "img_get=cv2.imread(\"images\\Siva.jpg\")\n",
    "img_get=cv2.resize(img_get,(400,400))\n",
    "cv2.putText(img_get,\"Siva\",(280,200),cv2.FONT_HERSHEY_COMPLEX,1,(0,255,0),2)\n",
    "new=cv2.polylines(img=img_get,pts=[np.array([[80,300],[80,110],[200,150],[200,500],[100,400]])],isClosed=True,color=(255,255,0),thickness=4,lineType=16)\n",
    "cv2.imshow(\"Images\",img_get)\n",
    "cv2.waitKey(0)\n",
    "cv2.destroyAllWindows() "
   ]
  },
  {
   "attachments": {},
   "cell_type": "markdown",
   "metadata": {},
   "source": [
    "# Show Rectangle on Group Images:"
   ]
  },
  {
   "cell_type": "code",
   "execution_count": 186,
   "metadata": {},
   "outputs": [],
   "source": [
    "import cv2\n",
    "img1=cv2.imread(\"images\\Child.jpg\")\n",
    "img1=cv2.resize(img1,(500,400))\n",
    "cv2.putText(img1,\"Cute Baby\",(300,40),cv2.FONT_HERSHEY_COMPLEX,1,(0,0,255),2)\n",
    "new_img1=cv2.rectangle(img=img1,pt1=(45,90),pt2=(100,180),color=(255,255,0),thickness=4,lineType=4)\n",
    "new_img2=cv2.rectangle(img=img1,pt1=(130,100),pt2=(200,200),color=(0,255,0),thickness=4,lineType=4)\n",
    "new_img3=cv2.rectangle(img=img1,pt1=(220,80),pt2=(290,180),color=(0,0,255),thickness=4,lineType=4)\n",
    "new_img4=cv2.rectangle(img=img1,pt1=(320,100),pt2=(380,200),color=(255,0,255),thickness=4,lineType=4)\n",
    "new_img5=cv2.rectangle(img=img1,pt1=(400,90),pt2=(470,180),color=(0,255,255),thickness=4,lineType=4)\n",
    "cv2.imshow(\"Images\",new_img1)\n",
    "cv2.imshow(\"Images\",new_img2)\n",
    "cv2.imshow(\"Images\",new_img3)\n",
    "cv2.imshow(\"Images\",new_img4)\n",
    "cv2.imshow(\"Images\",new_img5)\n",
    "cv2.waitKey(0)\n",
    "cv2.destroyAllWindows()"
   ]
  },
  {
   "cell_type": "markdown",
   "metadata": {},
   "source": [
    "# Show Ellipse on Group Images:"
   ]
  },
  {
   "cell_type": "code",
   "execution_count": 171,
   "metadata": {},
   "outputs": [],
   "source": [
    "import cv2\n",
    "img1=cv2.imread(\"images\\Child.jpg\")\n",
    "img1=cv2.resize(img1,(500,400))\n",
    "new=cv2.ellipse(img=img1,center=(70,130),axes=(50,40),angle=93,startAngle=0,endAngle=360, color=(255,255,0),thickness=2,lineType=16)\n",
    "new=cv2.ellipse(img=img1,center=(165,150),axes=(50,40),angle=110,startAngle=0,endAngle=360, color=(0,255,0),thickness=2,lineType=16)\n",
    "new=cv2.ellipse(img=img1,center=(258,130),axes=(50,40),angle=80,startAngle=0,endAngle=360, color=(255,255,0),thickness=2,lineType=16)\n",
    "new=cv2.ellipse(img=img1,center=(350,145),axes=(55,36),angle=95,startAngle=0,endAngle=360, color=(255,0,255),thickness=2,lineType=16)\n",
    "new=cv2.ellipse(img=img1,center=(435,140),axes=(55,38),angle=100,startAngle=0,endAngle=360, color=(0,0,255),thickness=2,lineType=16)\n",
    "cv2.imshow(\"Images\",new)\n",
    "cv2.waitKey(0)\n",
    "cv2.destroyAllWindows()"
   ]
  },
  {
   "cell_type": "code",
   "execution_count": null,
   "metadata": {},
   "outputs": [],
   "source": []
  },
  {
   "cell_type": "code",
   "execution_count": null,
   "metadata": {},
   "outputs": [],
   "source": []
  }
 ],
 "metadata": {
  "kernelspec": {
   "display_name": "Python 3",
   "language": "python",
   "name": "python3"
  },
  "language_info": {
   "codemirror_mode": {
    "name": "ipython",
    "version": 3
   },
   "file_extension": ".py",
   "mimetype": "text/x-python",
   "name": "python",
   "nbconvert_exporter": "python",
   "pygments_lexer": "ipython3",
   "version": "3.11.2"
  },
  "orig_nbformat": 4
 },
 "nbformat": 4,
 "nbformat_minor": 2
}
